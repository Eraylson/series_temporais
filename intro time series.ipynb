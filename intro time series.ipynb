{
 "cells": [
  {
   "cell_type": "code",
   "execution_count": null,
   "metadata": {},
   "outputs": [],
   "source": [
    "import pandas as pd\n",
    "import matplotlib.pyplot as plt\n",
    "import numpy as np\n",
    "from random import gauss, randrange, random"
   ]
  },
  {
   "cell_type": "code",
   "execution_count": null,
   "metadata": {},
   "outputs": [],
   "source": [
    "%matplotlib inline"
   ]
  },
  {
   "cell_type": "code",
   "execution_count": null,
   "metadata": {},
   "outputs": [],
   "source": [
    "import statsmodels.graphics.tsaplots as smt\n"
   ]
  },
  {
   "cell_type": "markdown",
   "metadata": {},
   "source": [
    "### Dados Governamentais "
   ]
  },
  {
   "cell_type": "code",
   "execution_count": null,
   "metadata": {},
   "outputs": [],
   "source": [
    "dados_analfabetismo = pd.read_excel('analfabetismo.xlsx', index_col='Ano', parse_dates=True)\n",
    "dados_analfabetismo.head()"
   ]
  },
  {
   "cell_type": "code",
   "execution_count": null,
   "metadata": {},
   "outputs": [],
   "source": [
    "dados_analfabetismo.plot(figsize=(15,6), lw=4, ls=':', c='red')\n",
    "#figsize = dimensão da figura\n",
    "#lw = largura da linha \n",
    "#ls = formato dos pontos"
   ]
  },
  {
   "cell_type": "code",
   "execution_count": null,
   "metadata": {},
   "outputs": [],
   "source": [
    "dados_analfabetismo.plot.hist(bins=20, edgecolor='k')"
   ]
  },
  {
   "cell_type": "markdown",
   "metadata": {},
   "source": [
    "### Dados de Produção"
   ]
  },
  {
   "cell_type": "code",
   "execution_count": null,
   "metadata": {},
   "outputs": [],
   "source": [
    "## Produção de óleo no Brasil\n",
    "dados_oleo = pd.read_excel('oil-production-tonnes.xls', index_col='Year')\n",
    "dados_oleo.head()"
   ]
  },
  {
   "cell_type": "code",
   "execution_count": null,
   "metadata": {},
   "outputs": [],
   "source": [
    "dados_oleo.plot(figsize=(15,6), lw=4, ls=':', c='green')"
   ]
  },
  {
   "cell_type": "markdown",
   "metadata": {},
   "source": [
    "### Dados Naturais"
   ]
  },
  {
   "cell_type": "code",
   "execution_count": null,
   "metadata": {},
   "outputs": [],
   "source": [
    "## Série Sunspot\n",
    "sunspot = pd.read_csv('sunspot.txt', header=None)\n",
    "sunspot.columns = ['Sunspot']"
   ]
  },
  {
   "cell_type": "code",
   "execution_count": null,
   "metadata": {},
   "outputs": [],
   "source": [
    "sunspot.head()"
   ]
  },
  {
   "cell_type": "code",
   "execution_count": null,
   "metadata": {},
   "outputs": [],
   "source": [
    "sunspot.plot(figsize=(15,6), lw=4, ls='-', c='green')"
   ]
  },
  {
   "cell_type": "markdown",
   "metadata": {},
   "source": [
    "### Dados Financeiros"
   ]
  },
  {
   "cell_type": "code",
   "execution_count": null,
   "metadata": {},
   "outputs": [],
   "source": [
    "microsoft = pd.read_csv('MSFT.csv', delimiter=';', index_col='Date')\n",
    "microsoft.head()"
   ]
  },
  {
   "cell_type": "code",
   "execution_count": null,
   "metadata": {},
   "outputs": [],
   "source": [
    "microsoft['Adj_Close'].plot(figsize=(15,6), lw=2, ls='-', c='red')"
   ]
  },
  {
   "cell_type": "markdown",
   "metadata": {},
   "source": [
    "### Dados Medicina "
   ]
  },
  {
   "cell_type": "code",
   "execution_count": null,
   "metadata": {},
   "outputs": [],
   "source": [
    "#serie de frequência cardiaca\n",
    "fc_serie = pd.read_csv('hr.txt', header=None)\n",
    "fc_serie.columns = ['Freq']"
   ]
  },
  {
   "cell_type": "code",
   "execution_count": null,
   "metadata": {},
   "outputs": [],
   "source": [
    "fc_serie.plot(figsize=(15,6), lw=2, ls='-', c='black')"
   ]
  },
  {
   "cell_type": "markdown",
   "metadata": {},
   "source": [
    "## Modelos Simples "
   ]
  },
  {
   "cell_type": "markdown",
   "metadata": {},
   "source": [
    "### Ruído I.I.D \n",
    "\n",
    "* Modelo mais simples;\n",
    "* Sem componentes de tendência e sazonalidade;\n",
    "* As observações são resultados de variáveis aleátorias i.i.d com média zero;\n",
    "* Não existe dependência entre as observações;\n",
    "* Apesar de não ser interessante para predição, é um modelo que ajuda na construção e entendimento de modelos mais complexos;"
   ]
  },
  {
   "cell_type": "code",
   "execution_count": null,
   "metadata": {},
   "outputs": [],
   "source": [
    "## Série gerada por Ruído I.I.D Gaussiano \n",
    "dados_iid = [gauss(0.0, 1.0) for i in range(500)]\n",
    "serie_iid = pd.Series(dados_iid)"
   ]
  },
  {
   "cell_type": "code",
   "execution_count": null,
   "metadata": {},
   "outputs": [],
   "source": [
    "serie_iid.plot(figsize=(15,6), lw=2, ls='-', c='black')"
   ]
  },
  {
   "cell_type": "markdown",
   "metadata": {},
   "source": [
    "### Processo Binário\n",
    "* As observações só podem assumir dois valores possivéis"
   ]
  },
  {
   "cell_type": "code",
   "execution_count": null,
   "metadata": {},
   "outputs": [],
   "source": [
    "serie_vitorias = pd.read_csv('vitorias.txt', header=None)"
   ]
  },
  {
   "cell_type": "code",
   "execution_count": null,
   "metadata": {},
   "outputs": [],
   "source": [
    "serie_vitorias.columns = ['Vitoria']\n",
    "serie_vitorias.plot(figsize=(15,6), lw=2, ls='-', c='black')\n",
    "plt.show()"
   ]
  },
  {
   "cell_type": "markdown",
   "metadata": {},
   "source": [
    "#### Random Walk\n",
    "\n",
    "* Idéia remete a “caminhada do bêbado”. Tomada de vários passos consecutivos, cada qual em uma direção aleatória;\n",
    "* O valor atual é obtido através de valor/valores passados + um ruído: $S_{t} = S_{t-1} + X_{t}$\n",
    "* $X_{t}$ é um ruído i.i.d"
   ]
  },
  {
   "cell_type": "code",
   "execution_count": null,
   "metadata": {},
   "outputs": [],
   "source": [
    "serie_randomwalk = [np.random.normal(0)]\n",
    "tam_serie = 500\n",
    "for i in range(1, tam_serie):\n",
    "    valor = serie_randomwalk[i-1] + np.random.normal(0)\n",
    "    serie_randomwalk.append(valor)"
   ]
  },
  {
   "cell_type": "code",
   "execution_count": null,
   "metadata": {},
   "outputs": [],
   "source": [
    "serie_randomwalk = pd.Series(serie_randomwalk)\n",
    "serie_randomwalk.plot(figsize=(15,6), lw=2, ls='-', c='black')"
   ]
  },
  {
   "cell_type": "markdown",
   "metadata": {},
   "source": [
    "## Modelos com tendência e sazonalidade\n",
    "* Algumas séries é perceptível que não podem ser modeladas por modelos simples de média zero;\n",
    "* São geradas com componentes de tendência e sazonalidade;\n",
    "* __Tendência__: mudança sistemática na série temporal que não parece ser periódico;\n",
    "* __Sazonalidade__: comportamento que se repete durante um período; \n",
    "\n",
    "$X_{t} = m_{t} + s_{t} + Y_{t}$\n",
    "\n",
    "\n",
    "###  Modelo com Tendência\n",
    "\n",
    "$$X_{t} = m_{t} + Y_{t}$$\n",
    "\n",
    "$m_{t}$ é um componente de tendência e pode ser estimado através do método de mínimo quadrado:\n",
    "\n",
    "$$m_{t} = a_{0}+a_{1}t+ a_{2}t^2$$\n",
    "\n",
    "Os valores de $a$ são ajustados para minimizar a função: \n",
    "$$\\sum_{t=1}^{n} (x_{t} - m_{t})^2$$\n",
    "\n",
    "\n",
    "### Modelo com Sazonalidade \n",
    "\n",
    "$$X_{t} = s_{t} + Y_{t}$$\n",
    "\n",
    "$S_{t}$ é o componente de sazonalidade, resultado de uma função periódica que pode ser obtida através da soma de ondas senoidais:\n",
    "\n",
    "$$s_{t} = \\alpha_{0} + \\sum_{j=1}^{k} (a_{j} cos(\\lambda_{j}t) + b_{j}sin(\\lambda_{j}t))$$ \n",
    "\n",
    "$a$ e $b$ são parâmetros desconhecidos e $\\lambda$ são as frequências"
   ]
  },
  {
   "cell_type": "markdown",
   "metadata": {},
   "source": [
    "## Uma abordagem Geral para modelagem de séries temporais\n",
    "\n",
    "### >Plotar a série e analisar alguns aspectos:\n",
    "* Tendência\n",
    "* Componentes sazonais\n",
    "* Alterações acentuadas no comportamento\n",
    "* Observações discrepantes com os dados\n",
    "\n",
    "### >Remover tendências e componentes sazonais para obter resíduos estacionários;\n",
    "\n",
    "### >Escolher um modelo para ajustar aos resíduos;\n",
    "\n",
    "### >Alcançar a previsão original da série através da previsão dos componentes;"
   ]
  },
  {
   "cell_type": "markdown",
   "metadata": {},
   "source": [
    "## -------------------------------"
   ]
  },
  {
   "cell_type": "code",
   "execution_count": null,
   "metadata": {},
   "outputs": [],
   "source": [
    "serie_airline = pd.read_csv('airline.txt', header=None)\n",
    "serie_airline.columns = ['Airline']\n",
    "#é preciso criar uma frequencia na série para usar a função de decomposição \n",
    "rng = pd.date_range('1949 Jan 1', periods = len(serie_airline), freq = 'M')\n",
    "serie_airline = pd.Series(serie_airline['Airline'].values, index = rng)"
   ]
  },
  {
   "cell_type": "code",
   "execution_count": null,
   "metadata": {},
   "outputs": [],
   "source": [
    "serie_airline.plot(figsize=(15,6))"
   ]
  },
  {
   "cell_type": "code",
   "execution_count": null,
   "metadata": {},
   "outputs": [],
   "source": [
    "m_m = serie_airline.rolling(window=12).mean()\n",
    "m_std = serie_airline.rolling(window=12).std() \n",
    "\n",
    "from matplotlib.pylab import rcParams\n",
    "rcParams['figure.figsize'] = 15, 6\n",
    "\n",
    "\n",
    "orig = plt.plot(serie_airline, color='blue',label='Original')\n",
    "mean = plt.plot(m_m, color='red',label='Média')\n",
    "std = plt.plot(m_std, color='black',label='Desvio')\n",
    "plt.legend(loc='best')\n"
   ]
  },
  {
   "cell_type": "code",
   "execution_count": null,
   "metadata": {},
   "outputs": [],
   "source": [
    "serie_airline.plot.hist(edgecolor='k')"
   ]
  },
  {
   "cell_type": "code",
   "execution_count": null,
   "metadata": {},
   "outputs": [],
   "source": [
    "import statsmodels.api as sm\n",
    "\n",
    "decomposition = sm.tsa.seasonal_decompose(serie_airline, model='additive')\n",
    "fig = decomposition.plot()\n",
    "plt.show()"
   ]
  },
  {
   "cell_type": "code",
   "execution_count": null,
   "metadata": {},
   "outputs": [],
   "source": [
    "plt.plot(decomposition.seasonal)"
   ]
  },
  {
   "cell_type": "code",
   "execution_count": null,
   "metadata": {},
   "outputs": [],
   "source": [
    "plt.plot(decomposition.trend)"
   ]
  },
  {
   "cell_type": "code",
   "execution_count": null,
   "metadata": {},
   "outputs": [],
   "source": [
    "plt.plot(decomposition.resid)"
   ]
  },
  {
   "cell_type": "markdown",
   "metadata": {},
   "source": [
    "### Estimando e Eliminando a tendência "
   ]
  },
  {
   "cell_type": "code",
   "execution_count": null,
   "metadata": {},
   "outputs": [],
   "source": [
    "tendencia = decomposition.trend\n",
    "serie_sem_tendencia = serie_airline - tendencia"
   ]
  },
  {
   "cell_type": "code",
   "execution_count": null,
   "metadata": {},
   "outputs": [],
   "source": [
    "m_m = serie_sem_tendencia.rolling(window=12).mean()\n",
    "mean = plt.plot(m_m, color='red',label='Média')\n",
    "plt.plot(serie_sem_tendencia, label='Sem tendencia')\n",
    "plt.legend(loc='best')\n",
    "plt.show()"
   ]
  },
  {
   "cell_type": "code",
   "execution_count": null,
   "metadata": {},
   "outputs": [],
   "source": [
    "serie_sem_tendencia.plot.hist(edgecolor='k')"
   ]
  },
  {
   "cell_type": "markdown",
   "metadata": {},
   "source": [
    "### Estimando e eliminando sazonalidade"
   ]
  },
  {
   "cell_type": "code",
   "execution_count": null,
   "metadata": {},
   "outputs": [],
   "source": [
    "sazonalidade = decomposition.seasonal\n",
    "ruido = serie_sem_tendencia - sazonalidade"
   ]
  },
  {
   "cell_type": "code",
   "execution_count": null,
   "metadata": {},
   "outputs": [],
   "source": [
    "m_m = ruido.rolling(window=12).mean()\n",
    "mean = plt.plot(m_m, color='red',label='Média')\n",
    "plt.plot(ruido, label='ruído')\n",
    "plt.legend(loc='best')\n",
    "plt.show()"
   ]
  },
  {
   "cell_type": "markdown",
   "metadata": {},
   "source": [
    "#### Multiplicativo"
   ]
  },
  {
   "cell_type": "code",
   "execution_count": null,
   "metadata": {},
   "outputs": [],
   "source": [
    "decomposition = sm.tsa.seasonal_decompose(serie_airline, model='multiplicative')\n",
    "fig = decomposition.plot()\n",
    "plt.show()"
   ]
  },
  {
   "cell_type": "code",
   "execution_count": null,
   "metadata": {},
   "outputs": [],
   "source": [
    "ruido_multi = decomposition.resid\n",
    "ruido_multi.plot.hist(edgecolor='k')"
   ]
  },
  {
   "cell_type": "markdown",
   "metadata": {},
   "source": [
    "### ______________________"
   ]
  },
  {
   "cell_type": "markdown",
   "metadata": {},
   "source": [
    "## Processo estacionario "
   ]
  },
  {
   "cell_type": "code",
   "execution_count": null,
   "metadata": {},
   "outputs": [],
   "source": [
    "star = pd.read_csv('star.txt', header=None)"
   ]
  },
  {
   "cell_type": "code",
   "execution_count": null,
   "metadata": {},
   "outputs": [],
   "source": [
    "star.plot()"
   ]
  },
  {
   "cell_type": "code",
   "execution_count": null,
   "metadata": {},
   "outputs": [],
   "source": [
    "star.plot.hist(edgecolor='k')"
   ]
  },
  {
   "cell_type": "code",
   "execution_count": null,
   "metadata": {},
   "outputs": [],
   "source": [
    "serie_airline.plot()"
   ]
  },
  {
   "cell_type": "code",
   "execution_count": null,
   "metadata": {},
   "outputs": [],
   "source": [
    "serie_airline.plot.hist(edgecolor='k')"
   ]
  },
  {
   "cell_type": "code",
   "execution_count": null,
   "metadata": {},
   "outputs": [],
   "source": [
    "def acf_pacf(x, qtd_lag):\n",
    "    fig = plt.figure(figsize=(16,10))\n",
    "    ax1 = fig.add_subplot(221)\n",
    "    #plot acf\n",
    "    fig = smt.plot_acf(x, lags=qtd_lag, ax=ax1)\n",
    "    ax2 = fig.add_subplot(222)\n",
    "    #plot pacf\n",
    "    fig = smt.plot_pacf(x, lags=qtd_lag, ax=ax2)\n",
    "    plt.show()"
   ]
  },
  {
   "cell_type": "code",
   "execution_count": null,
   "metadata": {},
   "outputs": [],
   "source": [
    "acf_pacf(star, 20)"
   ]
  },
  {
   "cell_type": "code",
   "execution_count": null,
   "metadata": {},
   "outputs": [],
   "source": [
    "acf_pacf(serie_airline, 20)"
   ]
  },
  {
   "cell_type": "markdown",
   "metadata": {},
   "source": [
    "### Testes estatisticos"
   ]
  },
  {
   "cell_type": "code",
   "execution_count": null,
   "metadata": {},
   "outputs": [],
   "source": [
    "from statsmodels.tsa.stattools import adfuller, kpss"
   ]
  },
  {
   "cell_type": "code",
   "execution_count": null,
   "metadata": {},
   "outputs": [],
   "source": [
    "def teste_df(serie):\n",
    "    #H0: série não estacionária \n",
    "    dftest = adfuller(serie, autolag='AIC')\n",
    "    df_output = pd.Series(dftest[0:4], index=['Test Statistic','p-value','#Lags','Nº Observações'])\n",
    "    for key,value in dftest[4].items():\n",
    "        df_output['Valor Crítico (%s)'%key] = value\n",
    "    print(df_output)\n",
    "    if df_output[0] < df_output['Valor Crítico (5%)']: # descarta a H0 se o teste estatistico for menor que o valor crítico \n",
    "        \n",
    "        print('estacionária')\n",
    "    else:\n",
    "        print(df_output[0])\n",
    "        print('não estacionária')"
   ]
  },
  {
   "cell_type": "code",
   "execution_count": null,
   "metadata": {},
   "outputs": [],
   "source": [
    "def teste_kpss(serie):\n",
    "    #H0: série é estacionária \n",
    "    kptest = kpss(serie, regression='c')\n",
    "    kp_output = pd.Series(kptest[0:3], index=['Test Statistic','p-value','#Lags'])\n",
    "    for key,value in kptest[3].items():\n",
    "        kp_output['Valor Crítico (%s)'%key] = value\n",
    "    print(kp_output)\n",
    "    if kp_output[0] > kp_output['Valor Crítico (5%)']: # descarta a H0 se o teste estatistico for MAIOR que o valor crítico \n",
    "        \n",
    "        print('não estacionária')\n",
    "    else:\n",
    "        print(kp_output[0])\n",
    "        print('estacionária')"
   ]
  },
  {
   "cell_type": "code",
   "execution_count": null,
   "metadata": {},
   "outputs": [],
   "source": [
    "teste_df(star[0].values)"
   ]
  },
  {
   "cell_type": "code",
   "execution_count": null,
   "metadata": {},
   "outputs": [],
   "source": [
    "teste_df(serie_airline.values)"
   ]
  },
  {
   "cell_type": "code",
   "execution_count": null,
   "metadata": {},
   "outputs": [],
   "source": [
    "teste_kpss(star[0].values)"
   ]
  },
  {
   "cell_type": "code",
   "execution_count": null,
   "metadata": {},
   "outputs": [],
   "source": [
    "teste_kpss(serie_airline.values)"
   ]
  },
  {
   "cell_type": "code",
   "execution_count": null,
   "metadata": {},
   "outputs": [],
   "source": []
  }
 ],
 "metadata": {
  "kernelspec": {
   "display_name": "Python 3",
   "language": "python",
   "name": "python3"
  },
  "language_info": {
   "codemirror_mode": {
    "name": "ipython",
    "version": 3
   },
   "file_extension": ".py",
   "mimetype": "text/x-python",
   "name": "python",
   "nbconvert_exporter": "python",
   "pygments_lexer": "ipython3",
   "version": "3.6.1"
  }
 },
 "nbformat": 4,
 "nbformat_minor": 2
}
