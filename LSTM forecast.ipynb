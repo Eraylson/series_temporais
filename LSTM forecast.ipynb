{
 "cells": [
  {
   "cell_type": "code",
   "execution_count": 1,
   "metadata": {},
   "outputs": [],
   "source": [
    "import pandas as pd\n",
    "import matplotlib.pyplot as plt\n",
    "import numpy as np\n",
    "from sklearn.externals import joblib"
   ]
  },
  {
   "cell_type": "code",
   "execution_count": 2,
   "metadata": {},
   "outputs": [],
   "source": [
    "from metricas import smape"
   ]
  },
  {
   "cell_type": "code",
   "execution_count": 3,
   "metadata": {},
   "outputs": [],
   "source": [
    "from preprocessamento import *"
   ]
  },
  {
   "cell_type": "code",
   "execution_count": 5,
   "metadata": {},
   "outputs": [
    {
     "name": "stdout",
     "output_type": "stream",
     "text": [
      "Série: star\n",
      "LAGS [0, 1, 2, 3, 4, 7, 8, 9, 10, 11, 12, 13, 14, 15, 16, 17]\n"
     ]
    },
    {
     "name": "stderr",
     "output_type": "stream",
     "text": [
      "C:\\ProgramData\\Anaconda3\\lib\\site-packages\\statsmodels\\compat\\pandas.py:56: FutureWarning: The pandas.core.datetools module is deprecated and will be removed in a future version. Please use the pandas.tseries module instead.\n",
      "  from pandas.core import datetools\n"
     ]
    }
   ],
   "source": [
    "serie_name = 'star'\n",
    "print('Série:', serie_name)\n",
    "endereco = serie_name+'.txt'\n",
    "dados = pd.read_csv(endereco, delimiter=' ', header=None)\n",
    "serie = dados[0]\n",
    "serie_normalizada = normalise(serie)\n",
    "\n",
    "train, test = split_serie_less_lags(serie_normalizada, 0.75)\n",
    "\n",
    "max_lag = 20\n",
    "lags_acf = select_lag_acf(serie_normalizada, max_lag)\n",
    "max_sel_lag = lags_acf[0]\n",
    "\n",
    "train_lags = create_windows(train, max_sel_lag+1)\n",
    "\n",
    "test_data = create_windows(test, max_sel_lag+1)\n",
    "\n",
    "train_data,  val_data = select_validation_sample(train_lags, 0.34)"
   ]
  },
  {
   "cell_type": "code",
   "execution_count": 6,
   "metadata": {},
   "outputs": [
    {
     "data": {
      "text/plain": [
       "600"
      ]
     },
     "execution_count": 6,
     "metadata": {},
     "output_type": "execute_result"
    }
   ],
   "source": [
    "len(serie)"
   ]
  },
  {
   "cell_type": "code",
   "execution_count": 7,
   "metadata": {},
   "outputs": [],
   "source": [
    "x_train = train_data[:,0:-1]\n",
    "x_train = x_train[:,lags_acf]  #retorna só os lags selecionados no acf\n",
    "y_train = train_data[:,-1]\n",
    "x_val = val_data[:,0:-1]\n",
    "x_val = x_val[:,lags_acf]\n",
    "y_val = val_data[:,-1]\n",
    "x_test = test_data[:,lags_acf]\n",
    "y_test = test_data[:,-1]"
   ]
  },
  {
   "cell_type": "code",
   "execution_count": null,
   "metadata": {},
   "outputs": [],
   "source": [
    "def gerar_lstm(neuronios,  lags, func_opt='adam'):\n",
    "    from keras.models import Sequential\n",
    "    from keras.layers import LSTM, Dense, Dropout\n",
    "\n",
    "    model = Sequential()\n",
    "    model.add(LSTM(neuronios, input_shape=(1, lags)))\n",
    "    model.add(Dense(1))\n",
    "    model.compile(loss='mean_squared_error', optimizer=func_opt)\n",
    "\n",
    "    return model"
   ]
  },
  {
   "cell_type": "code",
   "execution_count": null,
   "metadata": {},
   "outputs": [],
   "source": [
    "def train_lstm(modelo, x_train, y_train, x_val, y_val, num_ex=5,epochs=100):\n",
    "    trainX = np.reshape(x_train, (x_train.shape[0], 1, x_train.shape[1]))\n",
    "    valX = np.reshape(x_val, (x_val.shape[0], 1, x_val.shape[1]))\n",
    "    melhor_mse = np.Inf\n",
    "    for i in range(0, num_ex):\n",
    "\n",
    "        modelo.fit(trainX, y_train, epochs=epochs, batch_size=1, verbose=0)\n",
    "        prev_v = modelo.predict(valX)\n",
    "        novo_mse  = MSE(y_val, prev_v)\n",
    "        if novo_mse < melhor_mse:\n",
    "            melhor_mse = novo_mse\n",
    "            melhor_modelo = modelo\n",
    "\n",
    "    return melhor_modelo, melhor_mse"
   ]
  },
  {
   "cell_type": "code",
   "execution_count": null,
   "metadata": {},
   "outputs": [],
   "source": [
    "def prev_lstm(modelo, x_test):\n",
    "    testX = np.reshape(x_test, (x_test.shape[0], 1, x_test.shape[1]))\n",
    "    y_prev = modelo.predict(testX)\n",
    "    previsao = []\n",
    "    for i in range(0, len(y_prev)):\n",
    "        previsao.append(y_prev[i][0])\n",
    "\n",
    "\n",
    "    return previsao"
   ]
  },
  {
   "cell_type": "code",
   "execution_count": 8,
   "metadata": {},
   "outputs": [
    {
     "name": "stderr",
     "output_type": "stream",
     "text": [
      "C:\\ProgramData\\Anaconda3\\lib\\site-packages\\h5py\\__init__.py:34: FutureWarning: Conversion of the second argument of issubdtype from `float` to `np.floating` is deprecated. In future, it will be treated as `np.float64 == np.dtype(float).type`.\n",
      "  from ._conv import register_converters as _register_converters\n",
      "Using TensorFlow backend.\n"
     ]
    },
    {
     "name": "stdout",
     "output_type": "stream",
     "text": [
      "melhor configuração. neuronios: 1 funcao: adam\n",
      "melhor configuração. neuronios: 1 funcao: sgd\n"
     ]
    }
   ],
   "source": [
    "neuronios = [1, 10, 20, 50,  100]\n",
    "func_opt = ['adam','sgd', 'rmsprop']\n",
    "best_result = np.Inf\n",
    "\n",
    "for i in range(0,len(neuronios)):\n",
    "    for j in range(0,len(func_opt)):\n",
    "        lstm = gerar_lstm(neuronios[i], len(lags_acf), func_opt = func_opt[j])\n",
    "        lstm_treinada, mse_val = train_lstm(lstm, x_train, y_train, x_val, y_val, num_ex=1,epochs=20)\n",
    "        if mse_val < best_result:\n",
    "            best_result = mse_val\n",
    "            select_model = lstm_treinada\n",
    "            print('melhor configuração. neuronios:', neuronios[i], 'funcao:', func_opt[j])\n",
    "        \n"
   ]
  },
  {
   "cell_type": "code",
   "execution_count": 9,
   "metadata": {},
   "outputs": [],
   "source": [
    "filename = serie_name+'_LSTM.h5'\n",
    "select_model.save(filename)\n"
   ]
  },
  {
   "cell_type": "code",
   "execution_count": null,
   "metadata": {},
   "outputs": [],
   "source": []
  }
 ],
 "metadata": {
  "kernelspec": {
   "display_name": "Python 3",
   "language": "python",
   "name": "python3"
  },
  "language_info": {
   "codemirror_mode": {
    "name": "ipython",
    "version": 3
   },
   "file_extension": ".py",
   "mimetype": "text/x-python",
   "name": "python",
   "nbconvert_exporter": "python",
   "pygments_lexer": "ipython3",
   "version": "3.6.1"
  }
 },
 "nbformat": 4,
 "nbformat_minor": 2
}
