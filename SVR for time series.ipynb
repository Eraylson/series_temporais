{
 "cells": [
  {
   "cell_type": "code",
   "execution_count": 1,
   "metadata": {},
   "outputs": [],
   "source": [
    "import pandas as pd\n",
    "import matplotlib.pyplot as plt\n",
    "import numpy as np\n",
    "from sklearn.externals import joblib"
   ]
  },
  {
   "cell_type": "code",
   "execution_count": 2,
   "metadata": {},
   "outputs": [],
   "source": [
    "from metricas import mape, pocid"
   ]
  },
  {
   "cell_type": "code",
   "execution_count": 8,
   "metadata": {},
   "outputs": [],
   "source": [
    "from sklearn.metrics import mean_squared_error as MSE"
   ]
  },
  {
   "cell_type": "code",
   "execution_count": 3,
   "metadata": {},
   "outputs": [],
   "source": [
    "from preprocessamento import *"
   ]
  },
  {
   "cell_type": "code",
   "execution_count": 4,
   "metadata": {},
   "outputs": [
    {
     "name": "stdout",
     "output_type": "stream",
     "text": [
      "Série: star\n",
      "LAGS [0, 1, 2, 3, 4, 7, 8, 9, 10, 11, 12, 13, 14, 15, 16, 17]\n"
     ]
    }
   ],
   "source": [
    "serie_name = 'star'\n",
    "print('Série:', serie_name)\n",
    "endereco = serie_name+'.txt'\n",
    "dados = pd.read_csv(endereco, delimiter=' ', header=None)\n",
    "serie = dados[0]\n",
    "serie_normalizada = normalise(serie)\n",
    "\n",
    "train, test = split_serie_less_lags(serie_normalizada, 0.75)\n",
    "\n",
    "max_lag = 20\n",
    "lags_acf = select_lag_acf(serie_normalizada, max_lag)\n",
    "max_sel_lag = lags_acf[0]\n",
    "\n",
    "train_lags = create_windows(train, max_sel_lag+1)\n",
    "\n",
    "test_data = create_windows(test, max_sel_lag+1)\n",
    "\n",
    "train_data,  val_data = select_validation_sample(train_lags, 0.34)"
   ]
  },
  {
   "cell_type": "code",
   "execution_count": 5,
   "metadata": {},
   "outputs": [],
   "source": [
    "x_train = train_data[:,0:-1]\n",
    "x_train = x_train[:,lags_acf]  #retorna só os lags selecionados no acf\n",
    "y_train = train_data[:,-1]\n",
    "x_val = val_data[:,0:-1]\n",
    "x_val = x_val[:,lags_acf]\n",
    "y_val = val_data[:,-1]\n",
    "x_test = test_data[:,lags_acf]\n",
    "y_test = test_data[:,-1]"
   ]
  },
  {
   "cell_type": "code",
   "execution_count": 6,
   "metadata": {},
   "outputs": [],
   "source": [
    "def gerar_svr(k, g, e, c):\n",
    "    from sklearn.svm import SVR\n",
    "    svr = SVR(kernel=k,gamma=g, epsilon=e, C=c )\n",
    "    return svr"
   ]
  },
  {
   "cell_type": "code",
   "execution_count": 7,
   "metadata": {},
   "outputs": [],
   "source": [
    "def train_modelo(modelo, x_train, y_train, x_val, y_val, num_ex=5):\n",
    "\n",
    "    melhor_mse = np.Inf\n",
    "    for i in range(0, num_ex):\n",
    "        modelo.fit(x_train, y_train)\n",
    "        prev_v = modelo.predict(x_val)\n",
    "        novo_mse  = MSE(y_val, prev_v)\n",
    "        if novo_mse < melhor_mse:\n",
    "            melhor_mse = novo_mse\n",
    "            melhor_modelo = modelo\n",
    "\n",
    "    return melhor_modelo, melhor_mse"
   ]
  },
  {
   "cell_type": "code",
   "execution_count": 9,
   "metadata": {},
   "outputs": [],
   "source": [
    "kernel =['sigmoid'] #['sigmoid', 'rbf']\n",
    "gamma =  [0.5]  #[0.5, 1, 10, 20, 30, 40, 50, 60, 70, 80, 90, 100, 200, 400, 600, 800, 1000]\n",
    "eps =  [1] #[1, 0.1,0.001, 0.0001, 0.00001, 0.000001]\n",
    "C =  [0.1]  #[0.1, 0.5, 1, 2, 3, 4, 5, 6, 7, 8, 9, 10]\n",
    "num_sel_lag = 0\n",
    "best_result = np.Inf\n",
    "\n",
    "for k in kernel:\n",
    "    for g in gamma:\n",
    "        for e in eps:\n",
    "            for c in C:\n",
    "\n",
    "                svr = gerar_svr(k,g,e, c)\n",
    "                modelo_treinado, mse_val = train_modelo(svr, x_train, y_train, x_val, y_val, num_ex=1)\n",
    "                if mse_val < best_result:\n",
    "                    best_result = mse_val\n",
    "                    select_model = modelo_treinado"
   ]
  },
  {
   "cell_type": "code",
   "execution_count": 10,
   "metadata": {},
   "outputs": [
    {
     "data": {
      "text/plain": [
       "['star_SVR_aula.sav']"
      ]
     },
     "execution_count": 10,
     "metadata": {},
     "output_type": "execute_result"
    }
   ],
   "source": [
    "filename = serie_name+'_SVR_aula.sav'\n",
    "joblib.dump(select_model, filename)"
   ]
  },
  {
   "cell_type": "code",
   "execution_count": 11,
   "metadata": {},
   "outputs": [],
   "source": [
    "nome_modelo = filename\n",
    "modelo_carregado = joblib.load(nome_modelo)"
   ]
  },
  {
   "cell_type": "code",
   "execution_count": 12,
   "metadata": {},
   "outputs": [],
   "source": [
    "prev_test = modelo_carregado.predict(x_test)"
   ]
  },
  {
   "cell_type": "code",
   "execution_count": 13,
   "metadata": {},
   "outputs": [
    {
     "data": {
      "text/plain": [
       "0.0"
      ]
     },
     "execution_count": 13,
     "metadata": {},
     "output_type": "execute_result"
    }
   ],
   "source": [
    "pocid(y_test, prev_test)"
   ]
  },
  {
   "cell_type": "code",
   "execution_count": 14,
   "metadata": {},
   "outputs": [
    {
     "data": {
      "text/plain": [
       "100.46190970956559"
      ]
     },
     "execution_count": 14,
     "metadata": {},
     "output_type": "execute_result"
    }
   ],
   "source": [
    "mape(y_test, prev_test)"
   ]
  },
  {
   "cell_type": "code",
   "execution_count": 16,
   "metadata": {},
   "outputs": [
    {
     "data": {
      "text/plain": [
       "0.06391995922856146"
      ]
     },
     "execution_count": 16,
     "metadata": {},
     "output_type": "execute_result"
    }
   ],
   "source": [
    "MSE(y_test, prev_test)"
   ]
  },
  {
   "cell_type": "code",
   "execution_count": 17,
   "metadata": {},
   "outputs": [
    {
     "data": {
      "image/png": "[encoded data removed]",
      "text/plain": [
       "<matplotlib.figure.Figure at 0x23697a55f28>"
      ]
     },
     "metadata": {},
     "output_type": "display_data"
    }
   ],
   "source": [
    "from matplotlib.pylab import rcParams\n",
    "rcParams['figure.figsize'] =15, 6\n",
    "\n",
    "\n",
    "plt.plot(prev_test, label = 'Prev Test')\n",
    "plt.plot(y_test, label='Target')\n",
    "plt.legend(loc='best')\n",
    "plt.show()"
   ]
  },
  {
   "cell_type": "code",
   "execution_count": null,
   "metadata": {},
   "outputs": [],
   "source": []
  }
 ],
 "metadata": {
  "kernelspec": {
   "display_name": "Python 3",
   "language": "python",
   "name": "python3"
  },
  "language_info": {
   "codemirror_mode": {
    "name": "ipython",
    "version": 3
   },
   "file_extension": ".py",
   "mimetype": "text/x-python",
   "name": "python",
   "nbconvert_exporter": "python",
   "pygments_lexer": "ipython3",
   "version": "3.6.1"
  }
 },
 "nbformat": 4,
 "nbformat_minor": 2
}
