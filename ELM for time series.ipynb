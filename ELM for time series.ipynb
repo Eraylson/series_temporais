{
 "cells": [
  {
   "cell_type": "code",
   "execution_count": 1,
   "metadata": {},
   "outputs": [],
   "source": [
    "import pandas as pd\n",
    "import matplotlib.pyplot as plt\n",
    "import numpy as np\n",
    "from sklearn.externals import joblib"
   ]
  },
  {
   "cell_type": "code",
   "execution_count": 2,
   "metadata": {},
   "outputs": [],
   "source": [
    "from sklearn.metrics import mean_squared_error as MSE"
   ]
  },
  {
   "cell_type": "code",
   "execution_count": 3,
   "metadata": {},
   "outputs": [],
   "source": [
    "from preprocessamento import *"
   ]
  },
  {
   "cell_type": "code",
   "execution_count": 16,
   "metadata": {},
   "outputs": [],
   "source": [
    "from metricas import mape, pocid"
   ]
  },
  {
   "cell_type": "code",
   "execution_count": 4,
   "metadata": {},
   "outputs": [
    {
     "name": "stdout",
     "output_type": "stream",
     "text": [
      "Série: star\n",
      "LAGS [0, 1, 2, 3, 4, 7, 8, 9, 10, 11, 12, 13, 14, 15, 16, 17]\n"
     ]
    }
   ],
   "source": [
    "serie_name = 'star'\n",
    "print('Série:', serie_name)\n",
    "endereco = serie_name+'.txt'\n",
    "dados = pd.read_csv(endereco, delimiter=' ', header=None)\n",
    "serie = dados[0]\n",
    "serie_normalizada = normalise(serie)\n",
    "\n",
    "train, test = split_serie_less_lags(serie_normalizada, 0.75)\n",
    "\n",
    "max_lag = 20\n",
    "lags_acf = select_lag_acf(serie_normalizada, max_lag)\n",
    "max_sel_lag = lags_acf[0]\n",
    "\n",
    "train_lags = create_windows(train, max_sel_lag+1)\n",
    "\n",
    "test_data = create_windows(test, max_sel_lag+1)\n",
    "\n",
    "train_data,  val_data = select_validation_sample(train_lags, 0.34)"
   ]
  },
  {
   "cell_type": "code",
   "execution_count": 5,
   "metadata": {},
   "outputs": [],
   "source": [
    "x_train = train_data[:,0:-1]\n",
    "x_train = x_train[:,lags_acf]  \n",
    "y_train = train_data[:,-1]\n",
    "x_val = val_data[:,0:-1]\n",
    "x_val = x_val[:,lags_acf]\n",
    "y_val = val_data[:,-1]"
   ]
  },
  {
   "cell_type": "code",
   "execution_count": 11,
   "metadata": {},
   "outputs": [],
   "source": [
    "x_test = test_data[0:, 0:-1]\n",
    "x_test = x_test[:, lags_acf]\n",
    "y_test = test_data[:, -1]"
   ]
  },
  {
   "cell_type": "code",
   "execution_count": 6,
   "metadata": {},
   "outputs": [],
   "source": [
    "def gerar_elm(neuronios, alpha, rbf_w, func_at):\n",
    "    from sklearn_extensions.extreme_learning_machines.elm import ELMRegressor\n",
    "    elm = ELMRegressor(n_hidden =neuronios, alpha =alpha, rbf_width = rbf_w, activation_func  = func_at)\n",
    "    return elm"
   ]
  },
  {
   "cell_type": "code",
   "execution_count": 7,
   "metadata": {},
   "outputs": [],
   "source": [
    "def train_modelo(modelo, x_train, y_train, x_val, y_val, num_ex=5):\n",
    "\n",
    "    melhor_mse = np.Inf\n",
    "    for i in range(0, num_ex):\n",
    "        modelo.fit(x_train, y_train)\n",
    "        prev_v = modelo.predict(x_val)\n",
    "        novo_mse  = MSE(y_val, prev_v)\n",
    "        if novo_mse < melhor_mse:\n",
    "            melhor_mse = novo_mse\n",
    "            melhor_modelo = modelo\n",
    "\n",
    "    return melhor_modelo, melhor_mse"
   ]
  },
  {
   "cell_type": "code",
   "execution_count": 8,
   "metadata": {},
   "outputs": [
    {
     "name": "stdout",
     "output_type": "stream",
     "text": [
      "0.024181907601238447\n",
      "melhor configuração. Neur: 2 Alp: 0.001 Rbf: 0.001 Funç tanh\n",
      "0.0008045142143920198\n",
      "melhor configuração. Neur: 5 Alp: 0.001 Rbf: 0.001 Funç tanh\n"
     ]
    }
   ],
   "source": [
    "neuronios = [2, 5] #[2, 5, 10, 20, 30, 40, 50, 60, 70, 80, 90, 100, 150, 200]\n",
    "alpha = [0.001] #[0.001, 0.1, 0.5, 0.6, 1, 10, 50]\n",
    "rbf_w = [0.001] #[0.001, 0.1, 0.5,  1]\n",
    "func_at =  ['tanh']   #['tanh', 'sigmoid', 'gaussian', 'multiquadric', 'inv_multiquadric']\n",
    "\n",
    "best_result = np.Inf\n",
    "for i in range(0,len(neuronios)):\n",
    "    for j in range(0,len(alpha)):\n",
    "        for l in range(0,len(rbf_w)):\n",
    "            for m in range(0,len(func_at)):\n",
    "                modelo_elm = gerar_elm(neuronios[i], alpha[j], rbf_w[l], func_at[m])\n",
    "                modelo_treinado, mse_val = train_modelo(modelo_elm, x_train, y_train, x_val, y_val)\n",
    "                print(mse_val)\n",
    "                if mse_val < best_result:\n",
    "                        best_result = mse_val\n",
    "                        select_model = modelo_treinado\n",
    "                        print('melhor configuração. Neur:', neuronios[i], 'Alp:', alpha[j], 'Rbf:', rbf_w[l], 'Funç', func_at[m])"
   ]
  },
  {
   "cell_type": "code",
   "execution_count": null,
   "metadata": {},
   "outputs": [],
   "source": []
  },
  {
   "cell_type": "code",
   "execution_count": null,
   "metadata": {},
   "outputs": [],
   "source": []
  },
  {
   "cell_type": "code",
   "execution_count": 9,
   "metadata": {},
   "outputs": [
    {
     "data": {
      "text/plain": [
       "['star_ELM_aula.sav']"
      ]
     },
     "execution_count": 9,
     "metadata": {},
     "output_type": "execute_result"
    }
   ],
   "source": [
    "filename = serie_name+'_ELM_aula.sav'\n",
    "joblib.dump(select_model, filename)"
   ]
  },
  {
   "cell_type": "code",
   "execution_count": 10,
   "metadata": {},
   "outputs": [],
   "source": [
    "nome_modelo = filename\n",
    "modelo_carregado = joblib.load(nome_modelo)"
   ]
  },
  {
   "cell_type": "code",
   "execution_count": 12,
   "metadata": {},
   "outputs": [],
   "source": [
    "prev_test = modelo_carregado.predict(x_test)"
   ]
  },
  {
   "cell_type": "code",
   "execution_count": 18,
   "metadata": {},
   "outputs": [
    {
     "data": {
      "text/plain": [
       "68.75"
      ]
     },
     "execution_count": 18,
     "metadata": {},
     "output_type": "execute_result"
    }
   ],
   "source": [
    "pocid(y_test, prev_test)"
   ]
  },
  {
   "cell_type": "code",
   "execution_count": 19,
   "metadata": {},
   "outputs": [
    {
     "data": {
      "text/plain": [
       "10.960361954683785"
      ]
     },
     "execution_count": 19,
     "metadata": {},
     "output_type": "execute_result"
    }
   ],
   "source": [
    "mape(y_test, prev_test)"
   ]
  },
  {
   "cell_type": "code",
   "execution_count": 20,
   "metadata": {},
   "outputs": [
    {
     "data": {
      "text/plain": [
       "0.0014638419804477582"
      ]
     },
     "execution_count": 20,
     "metadata": {},
     "output_type": "execute_result"
    }
   ],
   "source": [
    "MSE(y_test, prev_test)"
   ]
  },
  {
   "cell_type": "code",
   "execution_count": 15,
   "metadata": {},
   "outputs": [
    {
     "data": {
      "image/png": "[encoded data removed]",
      "text/plain": [
       "<matplotlib.figure.Figure at 0x26a186ea208>"
      ]
     },
     "metadata": {},
     "output_type": "display_data"
    }
   ],
   "source": [
    "from matplotlib.pylab import rcParams\n",
    "rcParams['figure.figsize'] =15, 6\n",
    "\n",
    "\n",
    "plt.plot(prev_test, label = 'Prev Test')\n",
    "plt.plot(y_test, label='Target')\n",
    "plt.legend(loc='best')\n",
    "plt.show()"
   ]
  },
  {
   "cell_type": "code",
   "execution_count": null,
   "metadata": {},
   "outputs": [],
   "source": []
  }
 ],
 "metadata": {
  "kernelspec": {
   "display_name": "Python 3",
   "language": "python",
   "name": "python3"
  },
  "language_info": {
   "codemirror_mode": {
    "name": "ipython",
    "version": 3
   },
   "file_extension": ".py",
   "mimetype": "text/x-python",
   "name": "python",
   "nbconvert_exporter": "python",
   "pygments_lexer": "ipython3",
   "version": "3.6.1"
  }
 },
 "nbformat": 4,
 "nbformat_minor": 2
}
